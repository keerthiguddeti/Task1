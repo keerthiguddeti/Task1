{
 "cells": [
  {
   "cell_type": "code",
   "execution_count": 1,
   "id": "f1e2ec79",
   "metadata": {},
   "outputs": [],
   "source": [
    "#1. write a python program to convert a srting to lower case\n"
   ]
  },
  {
   "cell_type": "code",
   "execution_count": 2,
   "id": "073755fa",
   "metadata": {},
   "outputs": [
    {
     "data": {
      "text/plain": [
       "'innomatics'"
      ]
     },
     "execution_count": 2,
     "metadata": {},
     "output_type": "execute_result"
    }
   ],
   "source": [
    "x=\"INNOMATICS\"\n",
    "x.lower()"
   ]
  },
  {
   "cell_type": "code",
   "execution_count": 3,
   "id": "1486d4e6",
   "metadata": {},
   "outputs": [],
   "source": [
    "# 2.write a python program to convert only even index charecters to lower case."
   ]
  },
  {
   "cell_type": "code",
   "execution_count": 10,
   "id": "a7565953",
   "metadata": {},
   "outputs": [
    {
     "name": "stdout",
     "output_type": "stream",
     "text": [
      "pytho\n",
      " pYtHo\n"
     ]
    }
   ],
   "source": [
    "str1=input()\n",
    "x=\" \"\n",
    "for char in range(len(str1)):\n",
    "    if char%2==0:\n",
    "        x=x+str1[char].lower()\n",
    "    else:\n",
    "        x=x+str1[char].upper()\n",
    "print(x)\n"
   ]
  },
  {
   "cell_type": "code",
   "execution_count": 12,
   "id": "09d62a2f",
   "metadata": {},
   "outputs": [],
   "source": [
    "# 3.write a python program to convert only odd index charecters to lower case."
   ]
  },
  {
   "cell_type": "code",
   "execution_count": 1,
   "id": "fb37e86d",
   "metadata": {},
   "outputs": [
    {
     "name": "stdout",
     "output_type": "stream",
     "text": [
      "PYTHON\n",
      " PyThOn\n"
     ]
    }
   ],
   "source": [
    "str2=input()\n",
    "y=\" \"\n",
    "for char in range(len(str2)):\n",
    "    if char%2==0:\n",
    "        y=y+str2[char].upper()\n",
    "    else:\n",
    "        y=y+str2[char].lower()\n",
    "print(y)"
   ]
  },
  {
   "cell_type": "code",
   "execution_count": 13,
   "id": "a2d1e7de",
   "metadata": {},
   "outputs": [],
   "source": [
    "# 4.write a program to convert only odd index charecter to upper case."
   ]
  },
  {
   "cell_type": "code",
   "execution_count": 2,
   "id": "4f02686b",
   "metadata": {},
   "outputs": [
    {
     "name": "stdout",
     "output_type": "stream",
     "text": [
      "PYTHON\n",
      " pYtHoN\n"
     ]
    }
   ],
   "source": [
    "str3=input()\n",
    "y=\" \"\n",
    "for char in range(len(str3)):\n",
    "    if char%2==0:\n",
    "        y=y+str3[char].lower()\n",
    "    else:\n",
    "        y=y+str3[char].upper()\n",
    "print(y)\n",
    "        "
   ]
  },
  {
   "cell_type": "code",
   "execution_count": 15,
   "id": "28e90571",
   "metadata": {},
   "outputs": [],
   "source": [
    "# 5.write a program to convert only even index charecter to upper case."
   ]
  },
  {
   "cell_type": "code",
   "execution_count": 3,
   "id": "41fe7e20",
   "metadata": {},
   "outputs": [
    {
     "name": "stdout",
     "output_type": "stream",
     "text": [
      "PYTHON\n",
      " PyThOn\n"
     ]
    }
   ],
   "source": [
    "str4=input()\n",
    "x=\" \"\n",
    "for char in range(len(str4)):\n",
    "    if char%2==0:\n",
    "        x=x+str4[char].upper()\n",
    "    else:\n",
    "        x=x+str4[char].lower()\n",
    "print(x)"
   ]
  },
  {
   "cell_type": "code",
   "execution_count": 19,
   "id": "6d472127",
   "metadata": {},
   "outputs": [],
   "source": [
    "# 6.write a python program to where you have dofferent variable which contains your name,sex,age,phone no,father name and  mother name .and by using this variable create a variable named bio-data where you will use all this variable\n"
   ]
  },
  {
   "cell_type": "code",
   "execution_count": 2,
   "id": "fbd2ed9f",
   "metadata": {},
   "outputs": [
    {
     "name": "stdout",
     "output_type": "stream",
     "text": [
      "Enter your name keerthi\n",
      "Enter your sex female\n",
      "Enter your age 21\n",
      "Enter your phone no 9876543210\n",
      "Enter your father_name AnkiReddy\n",
      "Enter your mother_name Padmavathi\n"
     ]
    },
    {
     "data": {
      "text/plain": [
       "'my name is keerthi my sex is female my age is 21 my phoneno is 9876543210 my father_name is AnkiReddy my mother_name is Padmavathi'"
      ]
     },
     "execution_count": 2,
     "metadata": {},
     "output_type": "execute_result"
    }
   ],
   "source": [
    "name=input(\"Enter your name \")\n",
    "sex=input(\"Enter your sex \")\n",
    "age=input(\"Enter your age \")\n",
    "phoneno=input(\"Enter your phone no \")\n",
    "father_name=input(\"Enter your father_name \")\n",
    "mother_name=input(\"Enter your mother_name \")\n",
    "bio_data= \"my name is {} my sex is {} my age is {} my phoneno is {} my father_name is {} my mother_name is {}\"\n",
    "bio_data.format(name,sex,age,phoneno,father_name,mother_name)"
   ]
  },
  {
   "cell_type": "code",
   "execution_count": 3,
   "id": "7d67a76f",
   "metadata": {},
   "outputs": [],
   "source": [
    "# 7.write a program to count how many times\"@\" occured"
   ]
  },
  {
   "cell_type": "code",
   "execution_count": 8,
   "id": "4a13c059",
   "metadata": {},
   "outputs": [
    {
     "name": "stdout",
     "output_type": "stream",
     "text": [
      "enter your list[0,\"l\",\"@\",8,9,0,\"@\",\" \"]\n"
     ]
    },
    {
     "data": {
      "text/plain": [
       "2"
      ]
     },
     "execution_count": 8,
     "metadata": {},
     "output_type": "execute_result"
    }
   ],
   "source": [
    "l=input(\"enter your list\")\n",
    "l.count(\"@\")\n"
   ]
  },
  {
   "cell_type": "code",
   "execution_count": 9,
   "id": "be8e93b9",
   "metadata": {},
   "outputs": [],
   "source": [
    "# 8.write a programm to get only names from the string \"name1.@gmail.com,name2.@gmail.com,name3.@gmail.com\" output-name1,name2,name3\n"
   ]
  },
  {
   "cell_type": "code",
   "execution_count": 6,
   "id": "119e7b0b",
   "metadata": {},
   "outputs": [
    {
     "name": "stdout",
     "output_type": "stream",
     "text": [
      "name1 name2 name3\n"
     ]
    }
   ],
   "source": [
    "s1=\"name1.@gmail.com,name2.@gmail.com,name3.@gmail.com\" \n",
    "s1=s1.split( \".\")\n",
    "print(s1[0],s1[2][4:],s1[4][4:])"
   ]
  },
  {
   "cell_type": "code",
   "execution_count": 7,
   "id": "ff2d9a9b",
   "metadata": {},
   "outputs": [],
   "source": [
    "# 9.Given a string of odd lenthg greater that 9,return a new string made of the middle three characters of a given"
   ]
  },
  {
   "cell_type": "code",
   "execution_count": 15,
   "id": "e41dc979",
   "metadata": {},
   "outputs": [
    {
     "name": "stdout",
     "output_type": "stream",
     "text": [
      "innomatics\n"
     ]
    },
    {
     "data": {
      "text/plain": [
       "'mat'"
      ]
     },
     "execution_count": 15,
     "metadata": {},
     "output_type": "execute_result"
    }
   ],
   "source": [
    "name=input(\"\")\n",
    "b=int(len(name)/2)\n",
    "name[b-1:b+2]"
   ]
  },
  {
   "cell_type": "code",
   "execution_count": 16,
   "id": "86eed893",
   "metadata": {},
   "outputs": [],
   "source": [
    "# 10.write a python program to insert a 2 string in middle of 1 string"
   ]
  },
  {
   "cell_type": "code",
   "execution_count": 20,
   "id": "bfc6bd91",
   "metadata": {},
   "outputs": [
    {
     "name": "stdout",
     "output_type": "stream",
     "text": [
      "phon\n",
      "yt\n",
      "phyton\n"
     ]
    }
   ],
   "source": [
    "str1=input(\"\")\n",
    "str2=input(\"\")\n",
    "print(str1[:len(str1)//2:]+str2+str1[len(str1)//2:])"
   ]
  },
  {
   "cell_type": "code",
   "execution_count": 21,
   "id": "4e556e41",
   "metadata": {},
   "outputs": [],
   "source": [
    "# 11.write aprogram to remove vowels from the entire alphabets"
   ]
  },
  {
   "cell_type": "code",
   "execution_count": 3,
   "id": "11415cd7",
   "metadata": {},
   "outputs": [
    {
     "name": "stdout",
     "output_type": "stream",
     "text": [
      "abcdefghijklmnopqrstuvxyz\n",
      "bcdfghjklmnpqrstvxyz\n"
     ]
    }
   ],
   "source": [
    "vowels=[\"a\",\"e\",\"i\",\"o\",\"u\",\"A\",\"E\",\"I\",\"O\",\"U\"]\n",
    "name=input()\n",
    "a=\"\"\n",
    "for k in name:\n",
    "    if k not in vowels:\n",
    "        a+=k\n",
    "print(a)"
   ]
  },
  {
   "cell_type": "code",
   "execution_count": null,
   "id": "d2bdefe1",
   "metadata": {},
   "outputs": [],
   "source": []
  }
 ],
 "metadata": {
  "kernelspec": {
   "display_name": "Python 3 (ipykernel)",
   "language": "python",
   "name": "python3"
  },
  "language_info": {
   "codemirror_mode": {
    "name": "ipython",
    "version": 3
   },
   "file_extension": ".py",
   "mimetype": "text/x-python",
   "name": "python",
   "nbconvert_exporter": "python",
   "pygments_lexer": "ipython3",
   "version": "3.9.13"
  }
 },
 "nbformat": 4,
 "nbformat_minor": 5
}
